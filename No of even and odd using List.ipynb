{
 "cells": [
  {
   "cell_type": "code",
   "execution_count": 15,
   "id": "1a4b33a9",
   "metadata": {},
   "outputs": [],
   "source": [
    "list1=[1,2,3,4,5,7,8,9]"
   ]
  },
  {
   "cell_type": "code",
   "execution_count": 16,
   "id": "ce902e6f",
   "metadata": {},
   "outputs": [],
   "source": [
    "even_count, odd_count = 0, 0"
   ]
  },
  {
   "cell_type": "code",
   "execution_count": 19,
   "id": "20d3e29b",
   "metadata": {},
   "outputs": [
    {
     "name": "stdout",
     "output_type": "stream",
     "text": [
      "Number of even numbers : 3\n",
      "Number of odd numbers : 5\n"
     ]
    }
   ],
   "source": [
    "for num in list1:\n",
    "    if num % 2 == 0:\n",
    "        even_count += 1\n",
    "    else:\n",
    "    \todd_count += 1\n",
    "print(\"Number of even numbers :\",even_count)\n",
    "print(\"Number of odd numbers :\",odd_count)   "
   ]
  },
  {
   "cell_type": "code",
   "execution_count": null,
   "id": "53e5eaa5",
   "metadata": {},
   "outputs": [],
   "source": []
  }
 ],
 "metadata": {
  "kernelspec": {
   "display_name": "Python 3 (ipykernel)",
   "language": "python",
   "name": "python3"
  },
  "language_info": {
   "codemirror_mode": {
    "name": "ipython",
    "version": 3
   },
   "file_extension": ".py",
   "mimetype": "text/x-python",
   "name": "python",
   "nbconvert_exporter": "python",
   "pygments_lexer": "ipython3",
   "version": "3.10.0"
  }
 },
 "nbformat": 4,
 "nbformat_minor": 5
}
