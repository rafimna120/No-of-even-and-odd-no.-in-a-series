{
 "cells": [
  {
   "cell_type": "code",
   "execution_count": 16,
   "id": "fa734d85",
   "metadata": {},
   "outputs": [],
   "source": [
    "numbers = (1, 2, 3, 4, 5, 6, 7, 8, 9)"
   ]
  },
  {
   "cell_type": "code",
   "execution_count": 19,
   "id": "fc5597cd",
   "metadata": {},
   "outputs": [],
   "source": [
    "count_odd = 0"
   ]
  },
  {
   "cell_type": "code",
   "execution_count": 20,
   "id": "c7803d5f",
   "metadata": {},
   "outputs": [],
   "source": [
    "count_even = 0"
   ]
  },
  {
   "cell_type": "code",
   "execution_count": 29,
   "id": "6eee3b31",
   "metadata": {},
   "outputs": [
    {
     "name": "stdout",
     "output_type": "stream",
     "text": [
      "Number of even numbers : 5\n",
      "Number of odd numbers : 6\n"
     ]
    }
   ],
   "source": [
    "for x in numbers:\n",
    "    if not x % 2:\n",
    "        count_even+=1\n",
    "    else:\n",
    "    \tcount_odd+=1\n",
    "print(\"Number of even numbers :\",count_even)\n",
    "print(\"Number of odd numbers :\",count_odd)   "
   ]
  },
  {
   "cell_type": "code",
   "execution_count": null,
   "id": "9fcc7a51",
   "metadata": {},
   "outputs": [],
   "source": []
  },
  {
   "cell_type": "code",
   "execution_count": null,
   "id": "d2ee78ce",
   "metadata": {},
   "outputs": [],
   "source": []
  },
  {
   "cell_type": "code",
   "execution_count": null,
   "id": "33f013e3",
   "metadata": {},
   "outputs": [],
   "source": []
  }
 ],
 "metadata": {
  "kernelspec": {
   "display_name": "Python 3 (ipykernel)",
   "language": "python",
   "name": "python3"
  },
  "language_info": {
   "codemirror_mode": {
    "name": "ipython",
    "version": 3
   },
   "file_extension": ".py",
   "mimetype": "text/x-python",
   "name": "python",
   "nbconvert_exporter": "python",
   "pygments_lexer": "ipython3",
   "version": "3.10.0"
  }
 },
 "nbformat": 4,
 "nbformat_minor": 5
}
